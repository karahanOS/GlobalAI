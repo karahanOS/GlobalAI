{
 "cells": [
  {
   "cell_type": "code",
   "execution_count": 19,
   "metadata": {},
   "outputs": [],
   "source": [
    "class HealthInsurence:\n",
    "\n",
    "    def __init__(self, company_name, foundation_year, founder_name, company_slogan, num_of_employees, num_of_clients):\n",
    "\n",
    "        self.company_name = company_name\n",
    "        self.foundation_year = foundation_year\n",
    "        self.founder_name = founder_name\n",
    "        self.company_slogan = company_slogan\n",
    "        self.num_of_employees = num_of_employees\n",
    "        self.num_of_clients = num_of_clients\n",
    "\n",
    "    def print_report(self):\n",
    "        print(f'''The company{self.company_name} was founded in {self.foundation_year}.\n",
    "         The founder of the company is {self.founder_name}.\n",
    "         Company slogan: {self.company_slogan}\n",
    "         Number of employees: {self.num_of_employees}\n",
    "         Number of clients: {self.num_of_clients}''')\n",
    "\n",
    "    def sup_health_insurence(self, age, choronic_disease, income):\n",
    "\n",
    "        if age >= 60 and choronic_disease == True and income > 6000:\n",
    "            print('We are sorry! Your are not eligible for supplemental health insurence.')\n",
    "        elif age < 60 and income > 6000 or choronic_disease != True:\n",
    "            print('Congratulations! You can get supplemantal health insurence.')\n",
    "    \n",
    "    def update_num_clients(self, new_number):\n",
    "        self.num_of_clients = new_number\n",
    "        print(f'Number of clients has ben changed to {self.num_of_clients}')"
   ]
  },
  {
   "cell_type": "code",
   "execution_count": 20,
   "metadata": {},
   "outputs": [],
   "source": [
    "HI_company1 = HealthInsurence('Healty', 2012, 'BOb Mayer', 'We care for you', 3500, 13230)"
   ]
  },
  {
   "cell_type": "code",
   "execution_count": 21,
   "metadata": {},
   "outputs": [
    {
     "name": "stdout",
     "output_type": "stream",
     "text": [
      "Congratulations! You can get supplemantal health insurence.\n"
     ]
    }
   ],
   "source": [
    "HI_company1.sup_health_insurence(45, False, 5000)"
   ]
  },
  {
   "cell_type": "code",
   "execution_count": 22,
   "metadata": {},
   "outputs": [
    {
     "name": "stdout",
     "output_type": "stream",
     "text": [
      "Number of clients has ben changed to 13231\n"
     ]
    }
   ],
   "source": [
    "HI_company1.update_num_clients(13231)"
   ]
  },
  {
   "cell_type": "code",
   "execution_count": 23,
   "metadata": {},
   "outputs": [
    {
     "name": "stdout",
     "output_type": "stream",
     "text": [
      "The companyHealty was founded in 2012.\n",
      "         The founder of the company is BOb Mayer.\n",
      "         Company slogan: We care for you\n",
      "         Number of employees: 3500\n",
      "         Number of clients: 13231\n"
     ]
    }
   ],
   "source": [
    "HI_company1.print_report()"
   ]
  },
  {
   "cell_type": "code",
   "execution_count": 54,
   "metadata": {},
   "outputs": [],
   "source": [
    "class Logistic:\n",
    "\n",
    "    def __init__(self, company_name, foundation_year, founder_name, company_slogan, inventory_space):\n",
    "\n",
    "        \n",
    "        self.company_name = company_name\n",
    "        self.foundation_year = foundation_year\n",
    "        self.founder_name = founder_name\n",
    "        self.company_slogan = company_slogan\n",
    "        self.inventory_space = inventory_space\n",
    "\n",
    "    def print_report(self):\n",
    "\n",
    "        print(f'''The company name is {self.company_name} and was founded in {self.foundation_year}. \\n\n",
    "         The founder of the company is {self.founder_name}.\\t\n",
    "         Company slogan: {self.company_slogan}\\n\n",
    "         Inventory space of the company: {self.inventory_space} ''')\n",
    "\n",
    "    def inventory_space(self, new_storage_space):\n",
    "        print(f'Inventory space has been changed to {self.inventory_space}')\n",
    "\n",
    "    def update_inventory_space(self, new_storage_space):\n",
    "        self.inventory_space = new_storage_space\n",
    "        print(f'Inventory space has been changed to {self.inventory_space}')"
   ]
  },
  {
   "cell_type": "code",
   "execution_count": 31,
   "metadata": {},
   "outputs": [],
   "source": [
    "Logistic_company1 = Logistic('LogCom', 1990, 'Laura McCartey', 'There is no place we cannot reach', 2500 )"
   ]
  },
  {
   "cell_type": "code",
   "execution_count": 32,
   "metadata": {},
   "outputs": [
    {
     "name": "stdout",
     "output_type": "stream",
     "text": [
      "Inventory space has been changed to 3000\n",
      "The company name is LogCom and was founded in 1990. \n",
      "\n",
      "         The founder of the company is Laura McCartey.\t\n",
      "         Company slogan: There is no place we cannot reach\n",
      "\n",
      "         Inventory space of the company: 3000 \n"
     ]
    }
   ],
   "source": [
    "Logistic_company1.update_inventory_space(3000)\n",
    "Logistic_company1.print_report()"
   ]
  },
  {
   "cell_type": "code",
   "execution_count": 43,
   "metadata": {},
   "outputs": [],
   "source": [
    "class Trading:\n",
    "    \n",
    "    def __init__(self, company_name, foundation_year, founder_name, company_slogan, sales, expenses, revenue):\n",
    "\n",
    "        self.company_name = company_name\n",
    "        self.foundation_year = foundation_year\n",
    "        self.founder_name = founder_name\n",
    "        self.company_slogan = company_slogan\n",
    "        self.sales = sales\n",
    "        self.expenses = expenses\n",
    "        self.revenue = revenue\n",
    "\n",
    "    def print_report(self):\n",
    "\n",
    "        print(f'''The company name is {self.company_name} and was founded in {self.foundation_year}. \\n\n",
    "         The founder of the company is {self.founder_name}.\\t\n",
    "         Company slogan: {self.company_slogan}\\n\n",
    "         The sales: {self.sales}\\n\n",
    "         Total expenses: {self.expenses}\\t\n",
    "         Total revenue: {self.revenue} ''')\n",
    "    \n",
    "    def Update_sales_and_expenses(self, new_sales, new_expense):\n",
    "\n",
    "        self.sales += new_sales\n",
    "        self.expenses += new_expense\n",
    "        print('Sales and expenses are update!')\n",
    "\n",
    "    def    calculate_revenue(self):\n",
    "        self.revenue = self.sales - self.expenses\n",
    "        print(f'The revenue of the company is: {self.revenue}')"
   ]
  },
  {
   "cell_type": "code",
   "execution_count": 55,
   "metadata": {},
   "outputs": [],
   "source": [
    "trading_company1 = Trading('TraCom', 2005, 'Chong Wu', 'We revolutionize trading', 3850, 1720, 1838)\n"
   ]
  },
  {
   "cell_type": "code",
   "execution_count": 50,
   "metadata": {},
   "outputs": [
    {
     "name": "stdout",
     "output_type": "stream",
     "text": [
      "Sales and expenses are update!\n"
     ]
    }
   ],
   "source": [
    "trading_company1.Update_sales_and_expenses(100, 50)"
   ]
  },
  {
   "cell_type": "code",
   "execution_count": 56,
   "metadata": {},
   "outputs": [
    {
     "name": "stdout",
     "output_type": "stream",
     "text": [
      "The revenue of the company is: 2130\n"
     ]
    }
   ],
   "source": [
    "trading_company1.calculate_revenue()"
   ]
  },
  {
   "cell_type": "code",
   "execution_count": 52,
   "metadata": {},
   "outputs": [
    {
     "name": "stdout",
     "output_type": "stream",
     "text": [
      "The company name is TraCom and was founded in 2005. \n",
      "\n",
      "         The founder of the company is Chong Wu.\t\n",
      "         Company slogan: We revolutionize trading\n",
      "\n",
      "         The sales: 3950\n",
      "\n",
      "         Total expenses: 1770\t\n",
      "         Total revenue: 2180 \n"
     ]
    }
   ],
   "source": [
    "trading_company1.print_report()"
   ]
  },
  {
   "cell_type": "code",
   "execution_count": 53,
   "metadata": {},
   "outputs": [
    {
     "name": "stdout",
     "output_type": "stream",
     "text": [
      "Hello\n"
     ]
    }
   ],
   "source": [
    "def Hello():\n",
    "    print('Hello')\n",
    "\n",
    "a = Hello()"
   ]
  }
 ],
 "metadata": {
  "kernelspec": {
   "display_name": "Python 3",
   "language": "python",
   "name": "python3"
  },
  "language_info": {
   "codemirror_mode": {
    "name": "ipython",
    "version": 3
   },
   "file_extension": ".py",
   "mimetype": "text/x-python",
   "name": "python",
   "nbconvert_exporter": "python",
   "pygments_lexer": "ipython3",
   "version": "3.9.13"
  },
  "orig_nbformat": 4,
  "vscode": {
   "interpreter": {
    "hash": "9c6feb71a9274adae877ec860951f89a7615861d7af803989baf7be41f354007"
   }
  }
 },
 "nbformat": 4,
 "nbformat_minor": 2
}

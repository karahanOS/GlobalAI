{
 "cells": [
  {
   "cell_type": "code",
   "execution_count": 17,
   "metadata": {},
   "outputs": [],
   "source": [
    "file = open('employee_revenue.txt.txt', 'r')\n",
    "data = file.read()"
   ]
  },
  {
   "cell_type": "code",
   "execution_count": 18,
   "metadata": {},
   "outputs": [
    {
     "name": "stdout",
     "output_type": "stream",
     "text": [
      " Ben made 300 calls and generated 2400 dollars last Month with an 8$ average deal size.  \n",
      "omer called 10 times and Sold 2 courses generated 60 dollars last month with a 6$ average deal size.\n",
      "   KAren called 500 people and achieved success by GETting 24$ average deal size, got 12000 dollars revenue.     \n",
      "Celine with 70 calls, made 2275 dollars and 32$ average deal size IN the previous month.  \n",
      "     Sue called 100 people and earned 500 Dollars in REvenue and an AVERAGE DEAL SIZE of 5$ Last month.\n",
      "Bora called 100 people generated 770 dollars last month, his average deal size was 25$.  \n",
      "Rose made 600 phone calls and GENERATING 4000 dollars a past month 25$ average deal SIZE. \n",
      "Ellen made 800 calls and generated 6000 dollars a prior mONTH and reached 40$ the average deal size. \n",
      " bob made 200 phone calls, helped to make a proGress and generated 800 dollars LAST MONTH and gaining 15$ average deal size.\n",
      "Taylor, with 450 calls generated 1200 dollars in revenue pASt month, and the average deal size was 10$. \n",
      "  JuDE made 80 calls and earned 500 dollars for the company last month, her average deal size was 12$.\n"
     ]
    }
   ],
   "source": [
    "print(data)"
   ]
  },
  {
   "cell_type": "code",
   "execution_count": 19,
   "metadata": {},
   "outputs": [
    {
     "name": "stdout",
     "output_type": "stream",
     "text": [
      "[' Ben made 300 calls and generated 2400 dollars last Month with an 8$ average deal size.  ', 'omer called 10 times and Sold 2 courses generated 60 dollars last month with a 6$ average deal size.', '   KAren called 500 people and achieved success by GETting 24$ average deal size, got 12000 dollars revenue.     ', 'Celine with 70 calls, made 2275 dollars and 32$ average deal size IN the previous month.  ', '     Sue called 100 people and earned 500 Dollars in REvenue and an AVERAGE DEAL SIZE of 5$ Last month.', 'Bora called 100 people generated 770 dollars last month, his average deal size was 25$.  ', 'Rose made 600 phone calls and GENERATING 4000 dollars a past month 25$ average deal SIZE. ', 'Ellen made 800 calls and generated 6000 dollars a prior mONTH and reached 40$ the average deal size. ', ' bob made 200 phone calls, helped to make a proGress and generated 800 dollars LAST MONTH and gaining 15$ average deal size.', 'Taylor, with 450 calls generated 1200 dollars in revenue pASt month, and the average deal size was 10$. ', '  JuDE made 80 calls and earned 500 dollars for the company last month, her average deal size was 12$.']\n"
     ]
    }
   ],
   "source": [
    "lines = data.splitlines()\n",
    "print(lines)"
   ]
  },
  {
   "cell_type": "code",
   "execution_count": 20,
   "metadata": {},
   "outputs": [
    {
     "name": "stdout",
     "output_type": "stream",
     "text": [
      " Ben made 300 calls and generated 2400 dollars last Month with an 8$ average deal size.  \n"
     ]
    }
   ],
   "source": [
    "string = lines[0]\n",
    "print(string)"
   ]
  },
  {
   "cell_type": "code",
   "execution_count": 21,
   "metadata": {},
   "outputs": [
    {
     "name": "stdout",
     "output_type": "stream",
     "text": [
      "Ben made 300 calls and generated 2400 dollars last Month with an 8$ average deal size.\n"
     ]
    }
   ],
   "source": [
    "string = string.strip(' ')\n",
    "print(string)"
   ]
  },
  {
   "cell_type": "code",
   "execution_count": 22,
   "metadata": {},
   "outputs": [
    {
     "name": "stdout",
     "output_type": "stream",
     "text": [
      "ben made 300 calls and generated 2400 dollars last month with an 8$ average deal size.\n"
     ]
    }
   ],
   "source": [
    "string = string.lower()\n",
    "print(string)"
   ]
  },
  {
   "cell_type": "code",
   "execution_count": 23,
   "metadata": {},
   "outputs": [
    {
     "name": "stdout",
     "output_type": "stream",
     "text": [
      "Ben made 300 calls and generated 2400 dollars last month with an 8$ average deal size.\n"
     ]
    }
   ],
   "source": [
    "string = string.capitalize()\n",
    "print(string)"
   ]
  },
  {
   "cell_type": "code",
   "execution_count": 24,
   "metadata": {},
   "outputs": [
    {
     "name": "stdout",
     "output_type": "stream",
     "text": [
      "['Ben', 'made', '300', 'calls', 'and', 'generated', '2400', 'dollars', 'last', 'month', 'with', 'an', '8$', 'average', 'deal', 'size.']\n"
     ]
    }
   ],
   "source": [
    "split_string = string.split(' ')\n",
    "print(split_string)"
   ]
  },
  {
   "cell_type": "code",
   "execution_count": 25,
   "metadata": {},
   "outputs": [
    {
     "name": "stdout",
     "output_type": "stream",
     "text": [
      "Ben\n"
     ]
    }
   ],
   "source": [
    "name = split_string[0]\n",
    "print(name)"
   ]
  },
  {
   "cell_type": "code",
   "execution_count": 26,
   "metadata": {},
   "outputs": [
    {
     "name": "stdout",
     "output_type": "stream",
     "text": [
      "300\n"
     ]
    }
   ],
   "source": [
    "call_number = split_string[2]\n",
    "print(call_number)"
   ]
  },
  {
   "cell_type": "code",
   "execution_count": 37,
   "metadata": {},
   "outputs": [
    {
     "name": "stdout",
     "output_type": "stream",
     "text": [
      "8\n"
     ]
    }
   ],
   "source": [
    "for i in split_string:\n",
    "\n",
    "    if '$' in i:\n",
    "\n",
    "        average_deal_size = i.split('$')\n",
    "\n",
    "print(int(average_deal_size[0]))"
   ]
  },
  {
   "cell_type": "code",
   "execution_count": 28,
   "metadata": {},
   "outputs": [
    {
     "data": {
      "text/plain": [
       "7"
      ]
     },
     "execution_count": 28,
     "metadata": {},
     "output_type": "execute_result"
    }
   ],
   "source": [
    "dollars_index = split_string.index('dollars')\n",
    "dollars_index"
   ]
  },
  {
   "cell_type": "code",
   "execution_count": 29,
   "metadata": {},
   "outputs": [
    {
     "data": {
      "text/plain": [
       "6"
      ]
     },
     "execution_count": 29,
     "metadata": {},
     "output_type": "execute_result"
    }
   ],
   "source": [
    "revenue_index = dollars_index - 1\n",
    "revenue_index"
   ]
  },
  {
   "cell_type": "code",
   "execution_count": 31,
   "metadata": {},
   "outputs": [
    {
     "data": {
      "text/plain": [
       "'2400'"
      ]
     },
     "execution_count": 31,
     "metadata": {},
     "output_type": "execute_result"
    }
   ],
   "source": [
    "revenue = split_string[revenue_index]\n",
    "revenue"
   ]
  },
  {
   "cell_type": "code",
   "execution_count": 32,
   "metadata": {},
   "outputs": [
    {
     "name": "stdout",
     "output_type": "stream",
     "text": [
      "Name: Ben\n",
      "Number of calls: 300\n",
      "Average deal size ['8', '']\n",
      "Revenue: 2400\n"
     ]
    }
   ],
   "source": [
    "print('Name:', name)\n",
    "print('Number of calls:', call_number)\n",
    "print('Average deal size', average_deal_size)\n",
    "print('Revenue:', revenue)"
   ]
  },
  {
   "cell_type": "code",
   "execution_count": 38,
   "metadata": {},
   "outputs": [
    {
     "name": "stdout",
     "output_type": "stream",
     "text": [
      "Name type: <class 'str'>\n",
      "Number of calls type: <class 'str'>\n",
      "Average deal size type: <class 'str'>\n",
      "Revenue type: <class 'str'>\n"
     ]
    }
   ],
   "source": [
    "print('Name type:', type(name))\n",
    "print('Number of calls type:', type(call_number))\n",
    "print('Average deal size type:', type(average_deal_size[0]))\n",
    "print('Revenue type:', type(revenue))"
   ]
  },
  {
   "cell_type": "code",
   "execution_count": 40,
   "metadata": {},
   "outputs": [
    {
     "data": {
      "text/plain": [
       "8"
      ]
     },
     "execution_count": 40,
     "metadata": {},
     "output_type": "execute_result"
    }
   ],
   "source": [
    "int(call_number)\n",
    "int(revenue)\n",
    "int(average_deal_size[0])"
   ]
  },
  {
   "cell_type": "code",
   "execution_count": 41,
   "metadata": {},
   "outputs": [],
   "source": [
    "names = []\n",
    "call_numbers = []\n",
    "average_deal_sizes = []\n",
    "revenues = []"
   ]
  },
  {
   "cell_type": "code",
   "execution_count": 47,
   "metadata": {},
   "outputs": [
    {
     "name": "stdout",
     "output_type": "stream",
     "text": [
      "Names: ['Ben', 'Omer', 'Karen', 'Celine', 'Sue', 'Bora', 'Rose', 'Ellen', 'Bob', 'Taylor,', 'Jude', 'Ben', 'Omer', 'Karen', 'Celine', 'Sue', 'Bora', 'Rose', 'Ellen', 'Bob', 'Taylor,', 'Jude', 'Ben', 'Omer', 'Karen', 'Celine', 'Sue', 'Bora', 'Rose', 'Ellen', 'Bob', 'Taylor,', 'Jude', 'Ben', 'Omer', 'Karen', 'Celine', 'Sue', 'Bora', 'Rose', 'Ellen', 'Bob', 'Taylor,', 'Jude']\n",
      "Number of calls: [300, 10, 500, 70, 100, 100, 600, 800, 200, 450, 80, 300, 10, 500, 70, 100, 100, 600, 800, 200, 450, 80, 300, 10, 500, 70, 100, 100, 600, 800, 200, 450, 80, 300, 10, 500, 70, 100, 100, 600, 800, 200, 450, 80]\n",
      "Average_deal_sizes [2400, 60, 12000, 2275, 500, 770, 4000, 6000, 800, 1200, 500, 2400, 60, 12000, 2275, 500, 770, 4000, 6000, 800, 1200, 500, 2400, 60, 12000, 2275, 500, 770, 4000, 6000, 800, 1200, 500, 8, 6, 24, 32, 5, 25, 25, 40, 15, 10, 12]\n",
      "Revenue: [2400, 60, 12000, 2275, 500, 770, 4000, 6000, 800, 1200, 500]\n"
     ]
    }
   ],
   "source": [
    "for employee in lines:\n",
    "\n",
    "    employee = employee.strip(' ')\n",
    "    employee = employee.lower()\n",
    "    employee = employee.capitalize()\n",
    "\n",
    "    split_employee = employee.split(' ')\n",
    "\n",
    "    name = split_employee[0]\n",
    "    call_number = split_employee[2]\n",
    "\n",
    "    for i in split_employee:\n",
    "        if '$' in i:\n",
    "\n",
    "            average_deal_size = i\n",
    "    average_deal_size = average_deal_size.split('$')[0]\n",
    "\n",
    "    dollars_index = split_employee.index('dollars')\n",
    "    revenue_index = dollars_index - 1\n",
    "    revenue = split_employee[revenue_index]\n",
    "\n",
    "    average_deal_size = int(average_deal_size)\n",
    "    call_number = int(call_number)\n",
    "    revenue = int(revenue)\n",
    "\n",
    "    names.append(name)\n",
    "    call_numbers.append(call_number)\n",
    "    average_deal_sizes.append(average_deal_size)\n",
    "    revenues.append(revenue)\n",
    "\n",
    "print('Names:', names)\n",
    "print('Number of calls:', call_numbers)\n",
    "print('Average_deal_sizes', average_deal_sizes)\n",
    "print('Revenue:', revenues)"
   ]
  },
  {
   "cell_type": "code",
   "execution_count": null,
   "metadata": {},
   "outputs": [],
   "source": []
  },
  {
   "cell_type": "code",
   "execution_count": null,
   "metadata": {},
   "outputs": [],
   "source": []
  },
  {
   "cell_type": "code",
   "execution_count": null,
   "metadata": {},
   "outputs": [],
   "source": [
    " "
   ]
  },
  {
   "cell_type": "code",
   "execution_count": null,
   "metadata": {},
   "outputs": [],
   "source": []
  }
 ],
 "metadata": {
  "kernelspec": {
   "display_name": "Python 3",
   "language": "python",
   "name": "python3"
  },
  "language_info": {
   "codemirror_mode": {
    "name": "ipython",
    "version": 3
   },
   "file_extension": ".py",
   "mimetype": "text/x-python",
   "name": "python",
   "nbconvert_exporter": "python",
   "pygments_lexer": "ipython3",
   "version": "3.9.13 (tags/v3.9.13:6de2ca5, May 17 2022, 16:36:42) [MSC v.1929 64 bit (AMD64)]"
  },
  "orig_nbformat": 4,
  "vscode": {
   "interpreter": {
    "hash": "9c6feb71a9274adae877ec860951f89a7615861d7af803989baf7be41f354007"
   }
  }
 },
 "nbformat": 4,
 "nbformat_minor": 2
}

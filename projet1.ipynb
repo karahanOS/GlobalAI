{
 "cells": [
  {
   "cell_type": "code",
   "execution_count": 3,
   "metadata": {},
   "outputs": [],
   "source": [
    "my_name = 'Mehmet Karahan'\n",
    "my_surname = 'Cetinkaya'\n",
    "my_age = 22\n",
    "where_i_live = 'Istanbul'"
   ]
  },
  {
   "cell_type": "code",
   "execution_count": 4,
   "metadata": {},
   "outputs": [
    {
     "name": "stdout",
     "output_type": "stream",
     "text": [
      "My name is Mehmet Karahan Cetinkaya I am 22 years old, I live in Istanbul.\n"
     ]
    }
   ],
   "source": [
    "print(f'My name is {my_name} {my_surname} I am {my_age} years old, I live in {where_i_live}.')"
   ]
  },
  {
   "cell_type": "code",
   "execution_count": 5,
   "metadata": {},
   "outputs": [],
   "source": [
    "item_list = ['Laptop', 'Headset', 'Second monitor', 'Mousepad', 'USB Drive', 'Extarnal Drive']"
   ]
  },
  {
   "cell_type": "code",
   "execution_count": 6,
   "metadata": {},
   "outputs": [
    {
     "name": "stdout",
     "output_type": "stream",
     "text": [
      "[['Laptop', 'Headset', 'Second monitor']]\n",
      "[['Mousepad', 'USB Drive', 'Extarnal Drive']]\n"
     ]
    }
   ],
   "source": [
    "mandotory_item_list = [item_list[0:3]]\n",
    "optional_item_list = [item_list[3:6]]\n",
    "print(mandotory_item_list)\n",
    "print(optional_item_list)"
   ]
  },
  {
   "cell_type": "code",
   "execution_count": 7,
   "metadata": {},
   "outputs": [],
   "source": [
    "limit = 5000"
   ]
  },
  {
   "cell_type": "code",
   "execution_count": 8,
   "metadata": {},
   "outputs": [],
   "source": [
    "price_sheet = {\n",
    "    'Laptop': 1500,\n",
    "    'Headset': 100,\n",
    "    'Second monitor': 200,\n",
    "    'Mousepad': 50,\n",
    "    'USB Drive': 250\n",
    "}"
   ]
  },
  {
   "cell_type": "code",
   "execution_count": 9,
   "metadata": {},
   "outputs": [],
   "source": [
    "cart = []\n",
    "def add_to_cart(item, quantity):\n",
    "    cart.append((item, quantity))\n",
    "    item_list.remove(item)"
   ]
  },
  {
   "cell_type": "code",
   "execution_count": 10,
   "metadata": {},
   "outputs": [],
   "source": [
    "def create_invoice():\n",
    "    total_amount_inc_tax = 0\n",
    "    for item, quantity in cart:\n",
    "        price = price_sheet[item]\n",
    "        tax = (price * (0.18+(0.18*0.25)))\n",
    "        total = (tax + price) * quantity\n",
    "        total_amount_inc_tax += total\n",
    "        print('Item:', item, '\\t', 'Price:', price, '\\t', 'Quantity:', quantity, '\\t', 'Tax:', tax, '\\t', 'Total:', total, '\\n')\n",
    "    print('After the taxes are applied the total amount is:', '\\t', total_amount_inc_tax)\n",
    "    return total_amount_inc_tax"
   ]
  },
  {
   "cell_type": "code",
   "execution_count": 11,
   "metadata": {},
   "outputs": [],
   "source": [
    "def checkout():\n",
    "    global limit\n",
    "    total_amount = create_invoice()\n",
    "    if limit == 0:\n",
    "        print('You don`t have any budget')\n",
    "    elif total_amount > limit:\n",
    "        print('The amount you have to pay is above the spending limit. You have to drop some time.')\n",
    "    else:\n",
    "        limit -= total_amount\n",
    "        print(f'The total amount (incl. taxes) you`ve paid is {total_amount}. You have {limit} dollars left')\n"
   ]
  },
  {
   "cell_type": "code",
   "execution_count": 12,
   "metadata": {},
   "outputs": [
    {
     "name": "stdout",
     "output_type": "stream",
     "text": [
      "Item: Laptop \t Price: 1500 \t Quantity: 1 \t Tax: 337.49999999999994 \t Total: 1837.5 \n",
      "\n",
      "Item: Headset \t Price: 100 \t Quantity: 3 \t Tax: 22.499999999999996 \t Total: 367.5 \n",
      "\n",
      "Item: Mousepad \t Price: 50 \t Quantity: 2 \t Tax: 11.249999999999998 \t Total: 122.5 \n",
      "\n",
      "Item: Second monitor \t Price: 200 \t Quantity: 2 \t Tax: 44.99999999999999 \t Total: 490.0 \n",
      "\n",
      "Item: USB Drive \t Price: 250 \t Quantity: 1 \t Tax: 56.24999999999999 \t Total: 306.25 \n",
      "\n",
      "After the taxes are applied the total amount is: \t 3123.75\n",
      "The total amount (incl. taxes) you`ve paid is 3123.75. You have 1876.25 dollars left\n"
     ]
    }
   ],
   "source": [
    "add_to_cart('Laptop', 1)\n",
    "add_to_cart('Headset', 3)\n",
    "add_to_cart('Mousepad', 2)\n",
    "add_to_cart('Second monitor', 2)\n",
    "add_to_cart('USB Drive', 1)\n",
    "add_to_cart('External drive')\n",
    "checkout()"
   ]
  },
  {
   "cell_type": "code",
   "execution_count": 13,
   "metadata": {},
   "outputs": [],
   "source": [
    "import random"
   ]
  },
  {
   "cell_type": "code",
   "execution_count": 14,
   "metadata": {},
   "outputs": [],
   "source": [
    "action_list = ['rock', 'scissors', 'paper']"
   ]
  },
  {
   "cell_type": "code",
   "execution_count": 15,
   "metadata": {},
   "outputs": [
    {
     "name": "stdout",
     "output_type": "stream",
     "text": [
      "Round number: 1\n",
      "rock\n",
      "paper\n",
      "Computer is won!\n",
      "Round number: 2\n",
      "rock\n",
      "scissors\n",
      "Player is won!\n",
      "Round number: 3\n",
      "rock\n",
      "rock\n",
      "Tie!\n",
      "It is a tie!\n"
     ]
    }
   ],
   "source": [
    "com_score = 0\n",
    "player_score = 0\n",
    "\n",
    "total_rounds = input('How many rounds do you wanna play? Please enter the number: ')\n",
    "\n",
    "round_counter = 0\n",
    "\n",
    "while True:\n",
    "\n",
    "    round_counter += 1\n",
    "    print('Round number:', round_counter)\n",
    "\n",
    "    com_choice = random.choice(action_list)\n",
    "    player_choice = input('Please choose your act.')\n",
    "\n",
    "    print(player_choice)\n",
    "    print(com_choice)\n",
    "\n",
    "\n",
    "    if com_choice == player_choice:\n",
    "        print('Tie!')\n",
    "    \n",
    "    elif com_choice == \"rock\" and player_choice == 'scissors':\n",
    "        print('Computer is won!')\n",
    "        com_score +=1\n",
    "    \n",
    "    elif com_choice == 'paper' and player_choice == 'rock':\n",
    "        print('Computer is won!')\n",
    "        com_score +=1\n",
    "\n",
    "    elif com_choice == 'scissors' and player_choice == 'paper':\n",
    "        print('Computer is won!')\n",
    "        com_score +=1\n",
    "    else:\n",
    "        print('Player is won!')\n",
    "        player_score +=1\n",
    "\n",
    "    if round_counter == int(total_rounds):\n",
    "        break\n",
    "if com_score == player_score:\n",
    "    print('It is a tie!')\n",
    "elif com_score > player_score:\n",
    "    print('Computer is the winner!', com_score, ':', player_score)\n",
    "elif com_score < player_score:\n",
    "    print('Player is the winner!', com_score, ':', player_score)\n",
    "    \n",
    "\n",
    "\n",
    "\n",
    "\n",
    "\n",
    "\n",
    "\n",
    "\n",
    "\n"
   ]
  }
 ],
 "metadata": {
  "kernelspec": {
   "display_name": "Python 3.10.4 64-bit",
   "language": "python",
   "name": "python3"
  },
  "language_info": {
   "codemirror_mode": {
    "name": "ipython",
    "version": 3
   },
   "file_extension": ".py",
   "mimetype": "text/x-python",
   "name": "python",
   "nbconvert_exporter": "python",
   "pygments_lexer": "ipython3",
   "version": "3.10.4"
  },
  "orig_nbformat": 4,
  "vscode": {
   "interpreter": {
    "hash": "369f2c481f4da34e4445cda3fffd2e751bd1c4d706f27375911949ba6bb62e1c"
   }
  }
 },
 "nbformat": 4,
 "nbformat_minor": 2
}
